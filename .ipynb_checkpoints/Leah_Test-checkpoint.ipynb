{
 "cells": [
  {
   "cell_type": "code",
   "execution_count": 2,
   "metadata": {},
   "outputs": [],
   "source": [
    "import json\n",
    "import requests\n",
    "import os\n",
    "import pandas as pd\n",
    "import matplotlib.pyplot as plt\n",
    "import scipy.stats as st\n",
    "import numpy as np\n",
    "from scipy.stats import linregress\n"
   ]
  },
  {
   "cell_type": "code",
   "execution_count": 3,
   "metadata": {},
   "outputs": [],
   "source": [
    "health_data_path= \"Nutrition__Physical_Activity__and_Obesity_-_Behavioral_Risk_Factor_Surveillance_System (version 1).csv\"\n",
    "read_data = pd.read_csv(health_data_path)\n",
    "#read_data.head()"
   ]
  },
  {
   "cell_type": "code",
   "execution_count": 4,
   "metadata": {},
   "outputs": [],
   "source": [
    "new_df = pd.DataFrame(read_data[[\"YearEnd\",\"LocationDesc\",\"Question\",\"Data_Value\"]])\n",
    "clean_df = new_df.loc[new_df.YearEnd == 2017]"
   ]
  },
  {
   "cell_type": "code",
   "execution_count": 5,
   "metadata": {},
   "outputs": [
    {
     "data": {
      "text/html": [
       "<div>\n",
       "<style scoped>\n",
       "    .dataframe tbody tr th:only-of-type {\n",
       "        vertical-align: middle;\n",
       "    }\n",
       "\n",
       "    .dataframe tbody tr th {\n",
       "        vertical-align: top;\n",
       "    }\n",
       "\n",
       "    .dataframe thead tr th {\n",
       "        text-align: left;\n",
       "    }\n",
       "</style>\n",
       "<table border=\"1\" class=\"dataframe\">\n",
       "  <thead>\n",
       "    <tr>\n",
       "      <th></th>\n",
       "      <th>Question</th>\n",
       "      <th>state</th>\n",
       "      <th>Data_Value</th>\n",
       "    </tr>\n",
       "    <tr>\n",
       "      <th></th>\n",
       "      <th></th>\n",
       "      <th></th>\n",
       "      <th>mean</th>\n",
       "    </tr>\n",
       "  </thead>\n",
       "  <tbody>\n",
       "    <tr>\n",
       "      <th>0</th>\n",
       "      <td>Percent of adults aged 18 years and older who ...</td>\n",
       "      <td>Alabama</td>\n",
       "      <td>33.792000</td>\n",
       "    </tr>\n",
       "    <tr>\n",
       "      <th>1</th>\n",
       "      <td>Percent of adults aged 18 years and older who ...</td>\n",
       "      <td>Alaska</td>\n",
       "      <td>31.858333</td>\n",
       "    </tr>\n",
       "    <tr>\n",
       "      <th>2</th>\n",
       "      <td>Percent of adults aged 18 years and older who ...</td>\n",
       "      <td>Arizona</td>\n",
       "      <td>34.707407</td>\n",
       "    </tr>\n",
       "    <tr>\n",
       "      <th>3</th>\n",
       "      <td>Percent of adults aged 18 years and older who ...</td>\n",
       "      <td>Arkansas</td>\n",
       "      <td>36.272000</td>\n",
       "    </tr>\n",
       "    <tr>\n",
       "      <th>4</th>\n",
       "      <td>Percent of adults aged 18 years and older who ...</td>\n",
       "      <td>California</td>\n",
       "      <td>35.670370</td>\n",
       "    </tr>\n",
       "  </tbody>\n",
       "</table>\n",
       "</div>"
      ],
      "text/plain": [
       "                                            Question       state Data_Value\n",
       "                                                                       mean\n",
       "0  Percent of adults aged 18 years and older who ...     Alabama  33.792000\n",
       "1  Percent of adults aged 18 years and older who ...      Alaska  31.858333\n",
       "2  Percent of adults aged 18 years and older who ...     Arizona  34.707407\n",
       "3  Percent of adults aged 18 years and older who ...    Arkansas  36.272000\n",
       "4  Percent of adults aged 18 years and older who ...  California  35.670370"
      ]
     },
     "execution_count": 5,
     "metadata": {},
     "output_type": "execute_result"
    }
   ],
   "source": [
    "final_health_data = clean_df.groupby([\"Question\", \"LocationDesc\"]).agg({\"Data_Value\": [\"mean\"]}).reset_index().rename(columns={\"LocationDesc\": \"state\"}).dropna()\n",
    "final_health_data.head()"
   ]
  },
  {
   "cell_type": "code",
   "execution_count": 10,
   "metadata": {},
   "outputs": [],
   "source": [
    "condense_health = final_health_data.replace(to_replace = \"Percent of adults aged 18 years and older who have an overweight classification\", value =\"overweight\").replace(to_replace =\"Percent of adults aged 18 years and older who have obesity\", value = \"obese\").replace(to_replace =\"Percent of adults who achieve at least 150 minutes a week of moderate-intensity aerobic physical activity or 75 minutes a week of vigorous-intensity aerobic activity (or an equivalent combination)\", value =\"moderate-intense physical activity\").replace(to_replace =\"Percent of adults who achieve at least 150 minutes a week of moderate-intensity aerobic physical activity or 75 minutes a week of vigorous-intensity aerobic physical activity and engage in muscle-strengthening activities on 2 or more days a week\", value =\"moderate-intense physical activity\").replace(to_replace =\"Percent of adults who achieve at least 300 minutes a week of moderate-intensity aerobic physical activity or 150 minutes a week of vigorous-intensity aerobic activity (or an equivalent combination)\", value =\"moderate-intense physical activity\").replace(to_replace =\"Percent of adults who engage in muscle-strengthening activities on 2 or more days a week\", value =\"moderate-intense physical activity\").replace(to_replace =\"Percent of adults who engage in no leisure-time physical activity\", value =\"no physical activity\").replace(to_replace =\"Percent of adults who report consuming fruit less than one time daily\", value =\"less than one fruit per day\").replace(to_replace =\"Percent of adults who report consuming vegetables less than one time daily\", value =\"less than one vegetable per day\")"
   ]
  },
  {
   "cell_type": "code",
   "execution_count": 6,
   "metadata": {},
   "outputs": [],
   "source": [
    "email = \"lilu216@hotmail.com\"\n",
    "api_key = \"baygoose48\"\n",
    "base_url = \"https://aqs.epa.gov/data/api/annualData/byState?\"\n",
    "param = \"42602\"\n",
    "bdate = \"20180101\"\n",
    "edate = \"20181231\"\n",
    "\n",
    "# Sample request\n",
    "url_alabama_co = f\"{base_url}email={email}&key={api_key}&param={param}&bdate={bdate}&edate={edate}&state=01\"\n",
    "response = requests.get(url_alabama_co).json()\n",
    "#print(json.dumps(response, indent=4, sort_keys=True))"
   ]
  },
  {
   "cell_type": "code",
   "execution_count": 7,
   "metadata": {},
   "outputs": [],
   "source": [
    "#could compare levels of NO2 across states. compare max dates for when the most pollution is. \n",
    "state_query_url = f\"{base_url}email={email}&key={api_key}&param={param}&bdate={bdate}&edate={edate}&state=\"\n",
    "\n",
    "#need to pick the variables we want the measurements for and create a list for each to add to with a for loop.\n",
    "\n",
    "states = []\n",
    "mean = []\n",
    "max_value = []\n",
    "# max_date =[]\n",
    "# std_dev = []\n",
    "# #prm_exceed = []\n",
    "\n",
    "state_code = [\"01\", \"02\", \"04\", \"05\", \"06\", \"08\", \"09\", \"10\", \"11\", \"12\", \"13\", \"15\", \"16\", \"17\", \"18\", \"19\", \"20\", \"21\", \"22\", \n",
    "              \"23\", \"24\", \"25\", \"26\", \"27\", \"28\", \"29\", \"30\", \"31\", \"32\", \"33\", \"34\", \"35\", \"36\", \"37\", \"38\", \"39\", \"40\", \"41\",\n",
    "              \"42\", \"44\", \"45\", \"46\", \"47\", \"48\", \"49\", \"50\", \"51\", \"53\", \"54\", \"55\", \"56\", \"66\", \"72\", \"78\"]\n",
    "\n",
    "for code in state_code:\n",
    "    response = requests.get(state_query_url + code).json()\n",
    "    try:\n",
    "        states.extend([x['state'] for x in response['Data']])\n",
    "        mean.extend([x['arithmetic_mean'] for x in response['Data']])\n",
    "        max_value.extend([x['first_max_value'] for x in response['Data']])\n",
    "#         max_date.extend([x['first_max_datetime'] for x in response['Data']])\n",
    "#         std_dev.extend([x['standard_deviation'] for x in response['Data']])\n",
    "#         prm_exceed.extend([x['primary_exceedance_count'] for x in response['Data']])\n",
    "    except: \n",
    "        print(\"This state has no data\", code)"
   ]
  },
  {
   "cell_type": "code",
   "execution_count": 8,
   "metadata": {},
   "outputs": [
    {
     "data": {
      "text/html": [
       "<div>\n",
       "<style scoped>\n",
       "    .dataframe tbody tr th:only-of-type {\n",
       "        vertical-align: middle;\n",
       "    }\n",
       "\n",
       "    .dataframe tbody tr th {\n",
       "        vertical-align: top;\n",
       "    }\n",
       "\n",
       "    .dataframe thead th {\n",
       "        text-align: right;\n",
       "    }\n",
       "</style>\n",
       "<table border=\"1\" class=\"dataframe\">\n",
       "  <thead>\n",
       "    <tr style=\"text-align: right;\">\n",
       "      <th></th>\n",
       "      <th>state</th>\n",
       "      <th>No2</th>\n",
       "      <th>max No2</th>\n",
       "    </tr>\n",
       "  </thead>\n",
       "  <tbody>\n",
       "    <tr>\n",
       "      <th>0</th>\n",
       "      <td>Alabama</td>\n",
       "      <td>20.214454</td>\n",
       "      <td>41.7</td>\n",
       "    </tr>\n",
       "    <tr>\n",
       "      <th>1</th>\n",
       "      <td>Alabama</td>\n",
       "      <td>8.185029</td>\n",
       "      <td>41.7</td>\n",
       "    </tr>\n",
       "    <tr>\n",
       "      <th>2</th>\n",
       "      <td>Alabama</td>\n",
       "      <td>23.718644</td>\n",
       "      <td>49.8</td>\n",
       "    </tr>\n",
       "    <tr>\n",
       "      <th>3</th>\n",
       "      <td>Alabama</td>\n",
       "      <td>11.090790</td>\n",
       "      <td>49.8</td>\n",
       "    </tr>\n",
       "    <tr>\n",
       "      <th>4</th>\n",
       "      <td>Alaska</td>\n",
       "      <td>21.861095</td>\n",
       "      <td>69.1</td>\n",
       "    </tr>\n",
       "  </tbody>\n",
       "</table>\n",
       "</div>"
      ],
      "text/plain": [
       "     state        No2  max No2\n",
       "0  Alabama  20.214454     41.7\n",
       "1  Alabama   8.185029     41.7\n",
       "2  Alabama  23.718644     49.8\n",
       "3  Alabama  11.090790     49.8\n",
       "4   Alaska  21.861095     69.1"
      ]
     },
     "execution_count": 8,
     "metadata": {},
     "output_type": "execute_result"
    }
   ],
   "source": [
    "#create a data frame with info from your lists to combine into one dictionary\n",
    "no2_dict = {\n",
    "    \"state\": states,\n",
    "    \"No2\": mean,\n",
    "    \"max No2\": max_value,\n",
    "#     \"standard deviation\": std_dev,\n",
    "#     \"date of highest value\": max_date,\n",
    "#     \"primary exceedence\": prm_exceed,\n",
    "}\n",
    "\n",
    "#print(no2_dict)\n",
    "\n",
    "no_2_df = pd.DataFrame(no2_dict)\n",
    "no_2_df.head()"
   ]
  },
  {
   "cell_type": "code",
   "execution_count": 14,
   "metadata": {},
   "outputs": [
    {
     "data": {
      "text/html": [
       "<div>\n",
       "<style scoped>\n",
       "    .dataframe tbody tr th:only-of-type {\n",
       "        vertical-align: middle;\n",
       "    }\n",
       "\n",
       "    .dataframe tbody tr th {\n",
       "        vertical-align: top;\n",
       "    }\n",
       "\n",
       "    .dataframe thead tr th {\n",
       "        text-align: left;\n",
       "    }\n",
       "</style>\n",
       "<table border=\"1\" class=\"dataframe\">\n",
       "  <thead>\n",
       "    <tr>\n",
       "      <th></th>\n",
       "      <th>state</th>\n",
       "      <th>No2</th>\n",
       "      <th>max No2</th>\n",
       "    </tr>\n",
       "    <tr>\n",
       "      <th></th>\n",
       "      <th></th>\n",
       "      <th>mean</th>\n",
       "      <th>max</th>\n",
       "    </tr>\n",
       "  </thead>\n",
       "  <tbody>\n",
       "    <tr>\n",
       "      <th>0</th>\n",
       "      <td>Alabama</td>\n",
       "      <td>15.802229</td>\n",
       "      <td>49.8</td>\n",
       "    </tr>\n",
       "    <tr>\n",
       "      <th>1</th>\n",
       "      <td>Alaska</td>\n",
       "      <td>16.739653</td>\n",
       "      <td>69.1</td>\n",
       "    </tr>\n",
       "    <tr>\n",
       "      <th>2</th>\n",
       "      <td>Arizona</td>\n",
       "      <td>22.405089</td>\n",
       "      <td>75.0</td>\n",
       "    </tr>\n",
       "    <tr>\n",
       "      <th>3</th>\n",
       "      <td>Arkansas</td>\n",
       "      <td>12.396318</td>\n",
       "      <td>45.1</td>\n",
       "    </tr>\n",
       "    <tr>\n",
       "      <th>4</th>\n",
       "      <td>California</td>\n",
       "      <td>14.425014</td>\n",
       "      <td>90.3</td>\n",
       "    </tr>\n",
       "  </tbody>\n",
       "</table>\n",
       "</div>"
      ],
      "text/plain": [
       "        state        No2 max No2\n",
       "                    mean     max\n",
       "0     Alabama  15.802229    49.8\n",
       "1      Alaska  16.739653    69.1\n",
       "2     Arizona  22.405089    75.0\n",
       "3    Arkansas  12.396318    45.1\n",
       "4  California  14.425014    90.3"
      ]
     },
     "execution_count": 14,
     "metadata": {},
     "output_type": "execute_result"
    }
   ],
   "source": [
    "clean_air_df = no_2_df.groupby(\"state\").agg({\"No2\":[\"mean\"],\"max No2\":[\"max\"]}).reset_index()\n",
    "clean_air_df.head()"
   ]
  },
  {
   "cell_type": "code",
   "execution_count": 38,
   "metadata": {},
   "outputs": [
    {
     "data": {
      "text/plain": [
       "array(['overweight', 'obese', 'moderate-intense physical activity',\n",
       "       'no physical activity', 'less than one fruit per day',\n",
       "       'less than one vegetable per day'], dtype=object)"
      ]
     },
     "execution_count": 38,
     "metadata": {},
     "output_type": "execute_result"
    }
   ],
   "source": [
    "condense_health.head()\n",
    "condense_health[\"Question\"].unique()"
   ]
  },
  {
   "cell_type": "code",
   "execution_count": 41,
   "metadata": {},
   "outputs": [],
   "source": [
    "phyical_activity = condense_health[condense_health[\"Question\"] == \"moderate-intense physical activity\"]\n",
    "no_phyical_activity = condense_health[condense_health[\"Question\"] == \"no physical activity\"]"
   ]
  },
  {
   "cell_type": "code",
   "execution_count": 43,
   "metadata": {},
   "outputs": [
    {
     "name": "stderr",
     "output_type": "stream",
     "text": [
      "C:\\Users\\lilu2\\Anaconda3\\envs\\PythonData\\lib\\site-packages\\pandas\\core\\generic.py:3936: PerformanceWarning: dropping on a non-lexsorted multi-index without a level parameter may impact performance.\n",
      "  obj = obj._drop_axis(labels, axis, level=level, errors=errors)\n"
     ]
    }
   ],
   "source": [
    "phyical_activity = pd.merge(phyical_activity,clean_air_df, on=\"state\")\n",
    "no_phyical_activity = pd.merge(no_phyical_activity,clean_air_df, on=\"state\")\n"
   ]
  },
  {
   "cell_type": "code",
   "execution_count": 24,
   "metadata": {},
   "outputs": [
    {
     "data": {
      "image/png": "[encoded data removed]",
      "text/plain": [
       "<Figure size 432x288 with 1 Axes>"
      ]
     },
     "metadata": {
      "needs_background": "light"
     },
     "output_type": "display_data"
    }
   ],
   "source": [
    "\n",
    "\n",
    "active_No2_mean = phyical_activity[\"No2\"].values.astype(np.float64)\n",
    "active_prct_mean = phyical_activity[('Data_Value', 'mean')].values.astype(np.float64)\n",
    "\n",
    "plt.scatter(active_No2_mean, active_prct_mean)\n",
    "plt.xlabel(\"No2\")\n",
    "plt.ylabel(\"Active\")\n",
    "plt.show()"
   ]
  },
  {
   "cell_type": "code",
   "execution_count": 44,
   "metadata": {},
   "outputs": [
    {
     "data": {
      "image/png": "[encoded data removed]",
      "text/plain": [
       "<Figure size 432x288 with 1 Axes>"
      ]
     },
     "metadata": {
      "needs_background": "light"
     },
     "output_type": "display_data"
    }
   ],
   "source": [
    "no_active_No2_mean = no_phyical_activity[\"No2\"].values.astype(np.float64)\n",
    "no_active_prct_mean = no_phyical_activity[('Data_Value', 'mean')].values.astype(np.float64)\n",
    "\n",
    "plt.scatter(no_active_No2_mean, no_active_prct_mean)\n",
    "plt.xlabel(\"No2\")\n",
    "plt.ylabel(\"Active\")\n",
    "plt.show()"
   ]
  },
  {
   "cell_type": "code",
   "execution_count": 18,
   "metadata": {},
   "outputs": [
    {
     "data": {
      "image/png": "[encoded data removed]",
      "text/plain": [
       "<Figure size 432x288 with 1 Axes>"
      ]
     },
     "metadata": {
      "needs_background": "light"
     },
     "output_type": "display_data"
    }
   ],
   "source": [
    "# Percent adults moderate physical activity (cardio) vs. No2 levels in the air\n",
    "# Drop the outlier\n",
    "\n",
    "dropped = final_health_data[final_health_data.state != \"Puerto Rico\"]\n",
    "ques4_dropped = dropped[dropped[\"Question\"] == \"Percent of adults who achieve at least 150 minutes a week of moderate-intensity aerobic physical activity or 75 minutes a week of vigorous-intensity aerobic physical activity and engage in muscle-strengthening activities on 2 or more days a week\"]\n",
    "ques5_dropped = dropped[dropped[\"Question\"] == \"Percent of adults who achieve at least 300 minutes a week of moderate-intensity aerobic physical activity or 150 minutes a week of vigorous-intensity aerobic activity (or an equivalent combination)\"]\n",
    "ques6_dropped = dropped[dropped[\"Question\"] == \"Percent of adults who engage in muscle-strengthening activities on 2 or more days a week\"]\n",
    "q4_merge_df2 = pd.merge(ques4_dropped ,clean_air_df, on=\"state\")\n",
    "q5_merge_df2 = pd.merge(ques5_dropped ,clean_air_df, on=\"state\")\n",
    "q6_merge_df2 = pd.merge(ques6_dropped ,clean_air_df, on=\"state\")\n",
    "\n",
    "No2_mean_42 = q4_merge_df2[\"No2\"].values.astype(np.float64)\n",
    "prct_mean_42 = q4_merge_df2[('Data_Value', 'mean')].values.astype(np.float64)\n",
    "\n",
    "plt.scatter(prct_mean_42, No2_mean_42)\n",
    "plt.show()"
   ]
  },
  {
   "cell_type": "code",
   "execution_count": 24,
   "metadata": {},
   "outputs": [
    {
     "data": {
      "image/png": "[encoded data removed]",
      "text/plain": [
       "<Figure size 432x288 with 1 Axes>"
      ]
     },
     "metadata": {
      "needs_background": "light"
     },
     "output_type": "display_data"
    }
   ],
   "source": [
    "questions = final_health_data[\"Question\"].unique()\n",
    "#print(questions)\n",
    "labels = [\"Question 3\", \"Question 4\", \"Question 5\", \"Question 6\", \"Question 7\"]\n",
    "mean = [prct_mean_3.mean(), prct_mean_4.mean(), prct_mean_5.mean(), prct_mean_6.mean(), prct_mean_7.mean()]\n",
    "mean\n",
    "\n",
    "x_axis = np.arange(0, len(labels))\n",
    "tick_locations = []\n",
    "for x in x_axis:\n",
    "    tick_locations.append(x)\n",
    "    \n",
    "plt.bar(questions[2:7], mean)\n",
    "plt.xticks(tick_locations, labels)\n",
    "plt.show()\n",
    "\n"
   ]
  },
  {
   "cell_type": "code",
   "execution_count": 25,
   "metadata": {},
   "outputs": [],
   "source": [
    "# clean_df = no_3_df.rename(columns={('state', ''):\"state\",('average', 'mean'):\"Average No2 parts per billion\",('max value', 'max'):\"Max No2\"})"
   ]
  }
 ],
 "metadata": {
  "kernelspec": {
   "display_name": "Python 3",
   "language": "python",
   "name": "python3"
  },
  "language_info": {
   "codemirror_mode": {
    "name": "ipython",
    "version": 3
   },
   "file_extension": ".py",
   "mimetype": "text/x-python",
   "name": "python",
   "nbconvert_exporter": "python",
   "pygments_lexer": "ipython3",
   "version": "3.8.2"
  }
 },
 "nbformat": 4,
 "nbformat_minor": 4
}
