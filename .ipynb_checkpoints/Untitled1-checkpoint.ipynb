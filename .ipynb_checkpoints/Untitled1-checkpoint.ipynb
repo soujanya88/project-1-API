{
 "cells": [
  {
   "cell_type": "code",
   "execution_count": 1,
   "metadata": {},
   "outputs": [],
   "source": [
    "import json\n",
    "import requests\n",
    "import os\n",
    "import pandas as pd\n"
   ]
  },
  {
   "cell_type": "code",
   "execution_count": 4,
   "metadata": {},
   "outputs": [],
   "source": [
    "#url = \"https://api.breezometer.com/pollen/v2/forecast/daily?lat={latitude}&lon={longitude}&key=YOUR_API_KEY&features={Features_List}&days={Number_of_Days}\n"
   ]
  },
  {
   "cell_type": "code",
   "execution_count": 11,
   "metadata": {},
   "outputs": [],
   "source": [
    "query_url = \"https://api.breezometer.com/pollen/v2/forecast/daily?lat=39.1911&lon=106.8175&key=1cf96549ca10403cbff7ae3e895cbb07&features=plants_information&days=3&metadata=true\"\n"
   ]
  },
  {
   "cell_type": "code",
   "execution_count": 12,
   "metadata": {},
   "outputs": [
    {
     "data": {
      "text/plain": [
       "{'metadata': {'start_date': '2020-04-26',\n",
       "  'end_date': '2020-04-28',\n",
       "  'location': {'country': 'China'},\n",
       "  'types': {'grass': {'plants': ['graminales']}}},\n",
       " 'data': [{'date': '2020-04-26',\n",
       "   'index_id': 'bpi',\n",
       "   'index_display_name': 'BreezoMeter Pollen Index',\n",
       "   'plants': {'graminales': {'display_name': 'Graminales',\n",
       "     'in_season': False,\n",
       "     'data_available': True,\n",
       "     'index': {'value': 1, 'category': 'Very Low', 'color': '#009E3A'}}}},\n",
       "  {'date': '2020-04-27',\n",
       "   'index_id': 'bpi',\n",
       "   'index_display_name': 'BreezoMeter Pollen Index',\n",
       "   'plants': {'graminales': {'display_name': 'Graminales',\n",
       "     'in_season': False,\n",
       "     'data_available': True,\n",
       "     'index': {'value': 1, 'category': 'Very Low', 'color': '#009E3A'}}}},\n",
       "  {'date': '2020-04-28',\n",
       "   'index_id': 'bpi',\n",
       "   'index_display_name': 'BreezoMeter Pollen Index',\n",
       "   'plants': {'graminales': {'display_name': 'Graminales',\n",
       "     'in_season': False,\n",
       "     'data_available': True,\n",
       "     'index': {'value': 1, 'category': 'Very Low', 'color': '#009E3A'}}}}],\n",
       " 'error': None}"
      ]
     },
     "execution_count": 12,
     "metadata": {},
     "output_type": "execute_result"
    }
   ],
   "source": [
    "res = requests.get(query_url).json()\n",
    "\n",
    "res"
   ]
  },
  {
   "cell_type": "code",
   "execution_count": null,
   "metadata": {},
   "outputs": [],
   "source": []
  },
  {
   "cell_type": "code",
   "execution_count": null,
   "metadata": {},
   "outputs": [],
   "source": []
  }
 ],
 "metadata": {
  "kernelspec": {
   "display_name": "Python 3",
   "language": "python",
   "name": "python3"
  },
  "language_info": {
   "codemirror_mode": {
    "name": "ipython",
    "version": 3
   },
   "file_extension": ".py",
   "mimetype": "text/x-python",
   "name": "python",
   "nbconvert_exporter": "python",
   "pygments_lexer": "ipython3",
   "version": "3.7.6"
  }
 },
 "nbformat": 4,
 "nbformat_minor": 4
}
